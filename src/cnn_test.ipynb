{
 "cells": [
  {
   "cell_type": "markdown",
   "metadata": {},
   "source": [
    "# CAI4104 Final Project: First CNN Trial"
   ]
  },
  {
   "cell_type": "code",
   "execution_count": 31,
   "metadata": {},
   "outputs": [
    {
     "name": "stdout",
     "output_type": "stream",
     "text": [
      "------------\n",
      "### Python version: 3.9.12 | packaged by conda-forge | (main, Mar 24 2022, 23:25:59) \n",
      "[GCC 10.3.0]\n",
      "### NumPy version: 1.22.3\n",
      "### SciPy version: 1.8.0\n",
      "### Scikit-learn version: 0.24.2\n",
      "### Tensorflow version: 2.7.0\n",
      "------------\n"
     ]
    }
   ],
   "source": [
    "import os\n",
    "import numpy as np\n",
    "import scipy as sp\n",
    "import matplotlib.pyplot as plt\n",
    "import tensorflow as tf\n",
    "import tensorflow.keras as keras\n",
    "import sklearn\n",
    "import utils\n",
    "\n",
    "# Let's check our software versions\n",
    "print('------------')\n",
    "print('### Python version: ' + __import__('sys').version)\n",
    "print(f'### NumPy version: {np.__version__}')\n",
    "print(f'### SciPy version: {sp.__version__}')\n",
    "print(f'### Scikit-learn version: {sklearn.__version__}')\n",
    "print(f'### Tensorflow version: {tf.__version__}')\n",
    "print('------------')\n"
   ]
  },
  {
   "cell_type": "markdown",
   "metadata": {},
   "source": [
    "## Loading the data"
   ]
  },
  {
   "cell_type": "code",
   "execution_count": 32,
   "metadata": {},
   "outputs": [
    {
     "name": "stdout",
     "output_type": "stream",
     "text": [
      "35887 images with shape (48, 48, 1)\n"
     ]
    }
   ],
   "source": [
    "# Relative path to .npy files\n",
    "data_path = '../data/'\n",
    "data = np.load(data_path + 'data.npz')\n",
    "\n",
    "# Load numpy arrays\n",
    "train_x = data['train_x']\n",
    "train_t = data['train_t']\n",
    "\n",
    "val_x = data['val_x']\n",
    "val_t = data['val_t']\n",
    "\n",
    "test_x = data['test_x']\n",
    "test_t = data['test_t']\n",
    "\n",
    "assert train_x.shape[0] == train_t.shape[0], \"Training image quantity mismatches label quantity\"\n",
    "assert val_x.shape[0] == val_t.shape[0], \"Validation image quantity mismatches label quantity\"\n",
    "assert test_x.shape[0] == test_t.shape[0], \"Test image quantity mismatches label quantity\"\n",
    "\n",
    "# Data shapes\n",
    "num_images = train_x.shape[0] + val_x.shape[0] + test_x.shape[0]\n",
    "image_shape = train_x.shape[1:]\n",
    "\n",
    "print(f'{num_images} images with shape {image_shape}')"
   ]
  },
  {
   "cell_type": "code",
   "execution_count": 33,
   "metadata": {},
   "outputs": [
    {
     "data": {
      "text/plain": [
       "((122885, 48, 48, 1), (122885, 7))"
      ]
     },
     "execution_count": 33,
     "metadata": {},
     "output_type": "execute_result"
    }
   ],
   "source": [
    "# Load augmented data\n",
    "data_aug = np.load(data_path + 'data_aug.npz')\n",
    "train_x_aug = data_aug['train_x']\n",
    "train_t_aug = data_aug['train_t']\n",
    "\n",
    "train_x_aug.shape, train_t_aug.shape"
   ]
  },
  {
   "cell_type": "code",
   "execution_count": 34,
   "metadata": {},
   "outputs": [
    {
     "data": {
      "text/plain": [
       "((148005, 48, 48, 1), (148005, 7))"
      ]
     },
     "execution_count": 34,
     "metadata": {},
     "output_type": "execute_result"
    }
   ],
   "source": [
    "# Append augmented data\n",
    "train_x_all = np.concatenate((train_x, train_x_aug))\n",
    "train_t_all = np.concatenate((train_t, train_t_aug))\n",
    "\n",
    "train_x_all.shape, train_t_all.shape"
   ]
  },
  {
   "cell_type": "markdown",
   "metadata": {},
   "source": [
    "## Exploring the data"
   ]
  },
  {
   "cell_type": "code",
   "execution_count": 35,
   "metadata": {},
   "outputs": [],
   "source": [
    "# Category names (implicitly stores labels as indices)\n",
    "categories = ['angry', 'disgusted', 'fearful', 'happy', 'neutral', 'sad', 'surprised']\n",
    "category_numbers = dict(zip(categories, np.arange(0, len(categories))))\n",
    "num_categories = len(categories)"
   ]
  },
  {
   "cell_type": "code",
   "execution_count": 36,
   "metadata": {},
   "outputs": [],
   "source": [
    "def categorical_to_int(cat):\n",
    "    return np.argmax(cat)\n",
    "\n",
    "def display_sample(index: int):\n",
    "    plt.title(f'Training image {index}: {categories[categorical_to_int(train_t_all[index])]}')\n",
    "    plt.imshow(train_x_all[index], cmap='gray')"
   ]
  },
  {
   "cell_type": "code",
   "execution_count": 37,
   "metadata": {},
   "outputs": [
    {
     "data": {
      "text/plain": [
       "array([4, 3, 5, ..., 3, 0, 3])"
      ]
     },
     "execution_count": 37,
     "metadata": {},
     "output_type": "execute_result"
    }
   ],
   "source": [
    "train_t_num = np.array([np.argmax(a) for a in train_t])\n",
    "train_t_num"
   ]
  },
  {
   "cell_type": "code",
   "execution_count": 38,
   "metadata": {},
   "outputs": [
    {
     "data": {
      "text/plain": [
       "(array([3471.,  377., 3559., 6330., 4346., 7037.]),\n",
       " array([0, 1, 2, 3, 4, 5, 6]),\n",
       " <BarContainer object of 6 artists>)"
      ]
     },
     "execution_count": 38,
     "metadata": {},
     "output_type": "execute_result"
    },
    {
     "data": {
      "image/png": "[encoded data removed]",
      "text/plain": [
       "<Figure size 432x288 with 1 Axes>"
      ]
     },
     "metadata": {
      "needs_background": "light"
     },
     "output_type": "display_data"
    }
   ],
   "source": [
    "# Plot category frequencies\n",
    "plt.title('Category Frequencies')\n",
    "plt.xlabel('Category')\n",
    "plt.ylabel('Frequency')\n",
    "plt.hist(train_t_num, bins=np.arange(num_categories))\n"
   ]
  },
  {
   "cell_type": "code",
   "execution_count": 39,
   "metadata": {},
   "outputs": [
    {
     "data": {
      "image/png": "[encoded data removed]",
      "text/plain": [
       "<Figure size 432x288 with 1 Axes>"
      ]
     },
     "metadata": {
      "needs_background": "light"
     },
     "output_type": "display_data"
    }
   ],
   "source": [
    "display_index = 42\n",
    "display_sample(display_index)"
   ]
  },
  {
   "cell_type": "markdown",
   "metadata": {},
   "source": [
    "## CNN Training"
   ]
  },
  {
   "cell_type": "code",
   "execution_count": 41,
   "metadata": {},
   "outputs": [
    {
     "name": "stdout",
     "output_type": "stream",
     "text": [
      "Model: \"CNN\"\n",
      "_________________________________________________________________\n",
      " Layer (type)                Output Shape              Param #   \n",
      "=================================================================\n",
      " conv1 (Conv2D)              (None, 48, 48, 64)        1088      \n",
      "                                                                 \n",
      " conv2 (Conv2D)              (None, 48, 48, 64)        65600     \n",
      "                                                                 \n",
      " maxpool1 (MaxPooling2D)     (None, 24, 24, 64)        0         \n",
      "                                                                 \n",
      " batch_normalization_56 (Bat  (None, 24, 24, 64)       256       \n",
      " chNormalization)                                                \n",
      "                                                                 \n",
      " conv3 (Conv2D)              (None, 24, 24, 96)        98400     \n",
      "                                                                 \n",
      " conv4 (Conv2D)              (None, 24, 24, 96)        147552    \n",
      "                                                                 \n",
      " maxpool2 (MaxPooling2D)     (None, 12, 12, 96)        0         \n",
      "                                                                 \n",
      " batch_normalization_57 (Bat  (None, 12, 12, 96)       384       \n",
      " chNormalization)                                                \n",
      "                                                                 \n",
      " conv5 (Conv2D)              (None, 12, 12, 128)       196736    \n",
      "                                                                 \n",
      " conv6 (Conv2D)              (None, 12, 12, 128)       262272    \n",
      "                                                                 \n",
      " maxpool3 (MaxPooling2D)     (None, 6, 6, 128)         0         \n",
      "                                                                 \n",
      " batch_normalization_58 (Bat  (None, 6, 6, 128)        512       \n",
      " chNormalization)                                                \n",
      "                                                                 \n",
      " conv7 (Conv2D)              (None, 6, 6, 192)         393408    \n",
      "                                                                 \n",
      " conv8 (Conv2D)              (None, 6, 6, 192)         590016    \n",
      "                                                                 \n",
      " maxpool4 (MaxPooling2D)     (None, 3, 3, 192)         0         \n",
      "                                                                 \n",
      " batch_normalization_59 (Bat  (None, 3, 3, 192)        768       \n",
      " chNormalization)                                                \n",
      "                                                                 \n",
      " Flatten (Flatten)           (None, 1728)              0         \n",
      "                                                                 \n",
      " fc1 (Dense)                 (None, 196)               338884    \n",
      "                                                                 \n",
      " drop1 (Dropout)             (None, 196)               0         \n",
      "                                                                 \n",
      " fc2 (Dense)                 (None, 128)               25216     \n",
      "                                                                 \n",
      " drop2 (Dropout)             (None, 128)               0         \n",
      "                                                                 \n",
      " fc3 (Dense)                 (None, 64)                8256      \n",
      "                                                                 \n",
      " drop3 (Dropout)             (None, 64)                0         \n",
      "                                                                 \n",
      " fc4 (Dense)                 (None, 32)                2080      \n",
      "                                                                 \n",
      " drop4 (Dropout)             (None, 32)                0         \n",
      "                                                                 \n",
      " output (Dense)              (None, 7)                 231       \n",
      "                                                                 \n",
      "=================================================================\n",
      "Total params: 2,131,659\n",
      "Trainable params: 2,130,699\n",
      "Non-trainable params: 960\n",
      "_________________________________________________________________\n"
     ]
    }
   ],
   "source": [
    "from keras.layers import Conv2D, MaxPooling2D, Flatten, Dense, Dropout, BatchNormalization\n",
    "from tensorflow.keras.metrics import Precision, Recall\n",
    "\n",
    "\n",
    "model = keras.models.Sequential(name='CNN')\n",
    "\n",
    "# Conv-pool repetitions\n",
    "model.add(Conv2D(64, kernel_size=(4,4), input_shape=image_shape, padding='same', activation='relu', name='conv1'))\n",
    "model.add(Conv2D(64, kernel_size=(4,4), input_shape=image_shape, padding='same', activation='relu', name='conv2'))\n",
    "\n",
    "model.add(MaxPooling2D(2, name='maxpool1'))\n",
    "model.add(BatchNormalization())\n",
    "model.add(keras.layers.Conv2D(96, kernel_size=(4,4), padding='same', activation='relu', name='conv3'))\n",
    "model.add(keras.layers.Conv2D(96, kernel_size=(4,4), padding='same', activation='relu', name='conv4'))\n",
    "\n",
    "model.add(MaxPooling2D(2, name='maxpool2'))\n",
    "model.add(BatchNormalization())\n",
    "model.add(keras.layers.Conv2D(128, kernel_size=(4,4), padding='same', activation='relu', name='conv5'))\n",
    "model.add(keras.layers.Conv2D(128, kernel_size=(4,4), padding='same', activation='relu', name='conv6'))\n",
    "model.add(MaxPooling2D(2, name='maxpool3'))\n",
    "model.add(BatchNormalization())\n",
    "model.add(keras.layers.Conv2D(192, kernel_size=(4,4), padding='same', activation='relu', name='conv7'))\n",
    "model.add(keras.layers.Conv2D(192, kernel_size=(4,4), padding='same', activation='relu', name='conv8'))\n",
    "model.add(MaxPooling2D(2, name='maxpool4'))\n",
    "model.add(BatchNormalization())\n",
    "'''model.add(keras.layers.Conv2D(256, kernel_size=(4,4), padding='same', activation='relu', name='conv9'))\n",
    "model.add(keras.layers.Conv2D(256, kernel_size=(4,4), padding='same', activation='relu', name='conv10'))\n",
    "model.add(MaxPooling2D(2, name='maxpool5'))\n",
    "model.add(BatchNormalization())'''\n",
    "\n",
    "# Flatten\n",
    "model.add(Flatten(name='Flatten'))\n",
    "# Fully connected funnel\n",
    "'''model.add(Dense(256, activation='relu', name='fc0'))\n",
    "model.add(Dropout(0.25, name='drop0'))'''\n",
    "model.add(Dense(196, activation='relu', name='fc1'))\n",
    "model.add(Dropout(0.25, name='drop1'))\n",
    "model.add(Dense(128, activation='relu', name='fc2'))\n",
    "model.add(Dropout(0.25, name='drop2'))\n",
    "model.add(Dense(64, activation='relu', name='fc3'))\n",
    "model.add(Dropout(0.25, name='drop3'))\n",
    "model.add(Dense(32, activation='relu', name='fc4'))\n",
    "model.add(Dropout(0.25, name='drop4'))\n",
    "# Output\n",
    "model.add(Dense(num_categories, activation='softmax', name='output'))\n",
    "\n",
    "# Optimizer\n",
    "opt = keras.optimizers.Adam(learning_rate=0.001)\n",
    "\n",
    "model.summary()    \n",
    "model.compile(loss='categorical_crossentropy', optimizer=opt, metrics=['accuracy', Precision(), Recall()])"
   ]
  },
  {
   "cell_type": "code",
   "execution_count": 42,
   "metadata": {},
   "outputs": [
    {
     "name": "stdout",
     "output_type": "stream",
     "text": [
      "Epoch 1/20\n",
      "290/290 [==============================] - 14s 41ms/step - loss: 1.7216 - accuracy: 0.2940 - precision_6: 0.6883 - recall_6: 0.0565 - val_loss: 1.8124 - val_accuracy: 0.2870 - val_precision_6: 0.0000e+00 - val_recall_6: 0.0000e+00\n",
      "Epoch 2/20\n",
      "290/290 [==============================] - 11s 39ms/step - loss: 1.3824 - accuracy: 0.4632 - precision_6: 0.7815 - recall_6: 0.2281 - val_loss: 1.4672 - val_accuracy: 0.4379 - val_precision_6: 0.9489 - val_recall_6: 0.1035\n",
      "Epoch 3/20\n",
      "290/290 [==============================] - 11s 39ms/step - loss: 1.2128 - accuracy: 0.5452 - precision_6: 0.7851 - recall_6: 0.3185 - val_loss: 1.2080 - val_accuracy: 0.5397 - val_precision_6: 0.7625 - val_recall_6: 0.3327\n",
      "Epoch 4/20\n",
      "290/290 [==============================] - 11s 39ms/step - loss: 1.1103 - accuracy: 0.5937 - precision_6: 0.7873 - recall_6: 0.3860 - val_loss: 1.1299 - val_accuracy: 0.5826 - val_precision_6: 0.7810 - val_recall_6: 0.3795\n",
      "Epoch 5/20\n",
      "290/290 [==============================] - 11s 39ms/step - loss: 1.0079 - accuracy: 0.6374 - precision_6: 0.7965 - recall_6: 0.4599 - val_loss: 1.0103 - val_accuracy: 0.6299 - val_precision_6: 0.7990 - val_recall_6: 0.4483\n",
      "Epoch 6/20\n",
      "290/290 [==============================] - 11s 39ms/step - loss: 0.9174 - accuracy: 0.6715 - precision_6: 0.8057 - recall_6: 0.5209 - val_loss: 0.9600 - val_accuracy: 0.6496 - val_precision_6: 0.8048 - val_recall_6: 0.4849\n",
      "Epoch 7/20\n",
      "290/290 [==============================] - 11s 39ms/step - loss: 0.8449 - accuracy: 0.7019 - precision_6: 0.8171 - recall_6: 0.5727 - val_loss: 1.0385 - val_accuracy: 0.6227 - val_precision_6: 0.7412 - val_recall_6: 0.5060\n",
      "Epoch 8/20\n",
      "290/290 [==============================] - 11s 39ms/step - loss: 0.7591 - accuracy: 0.7334 - precision_6: 0.8314 - recall_6: 0.6268 - val_loss: 0.9830 - val_accuracy: 0.6625 - val_precision_6: 0.7495 - val_recall_6: 0.5807\n",
      "Epoch 9/20\n",
      "290/290 [==============================] - 11s 39ms/step - loss: 0.6699 - accuracy: 0.7661 - precision_6: 0.8487 - recall_6: 0.6811 - val_loss: 0.9068 - val_accuracy: 0.6846 - val_precision_6: 0.7816 - val_recall_6: 0.5878\n",
      "Epoch 10/20\n",
      "290/290 [==============================] - 11s 38ms/step - loss: 0.5883 - accuracy: 0.7972 - precision_6: 0.8666 - recall_6: 0.7260 - val_loss: 1.0105 - val_accuracy: 0.6745 - val_precision_6: 0.7342 - val_recall_6: 0.6127\n",
      "Epoch 11/20\n",
      "290/290 [==============================] - 11s 38ms/step - loss: 0.5180 - accuracy: 0.8232 - precision_6: 0.8825 - recall_6: 0.7645 - val_loss: 1.0096 - val_accuracy: 0.6734 - val_precision_6: 0.7523 - val_recall_6: 0.5982\n",
      "Epoch 12/20\n",
      "290/290 [==============================] - 11s 38ms/step - loss: 0.4548 - accuracy: 0.8455 - precision_6: 0.8964 - recall_6: 0.7984 - val_loss: 0.9986 - val_accuracy: 0.7232 - val_precision_6: 0.7736 - val_recall_6: 0.6799\n",
      "Epoch 13/20\n",
      "290/290 [==============================] - 11s 38ms/step - loss: 0.3983 - accuracy: 0.8658 - precision_6: 0.9078 - recall_6: 0.8270 - val_loss: 1.0258 - val_accuracy: 0.7161 - val_precision_6: 0.7604 - val_recall_6: 0.6784\n",
      "Epoch 14/20\n",
      "290/290 [==============================] - 11s 38ms/step - loss: 0.3432 - accuracy: 0.8862 - precision_6: 0.9204 - recall_6: 0.8553 - val_loss: 1.0908 - val_accuracy: 0.7199 - val_precision_6: 0.7638 - val_recall_6: 0.6890\n",
      "Epoch 15/20\n",
      "290/290 [==============================] - 11s 38ms/step - loss: 0.3100 - accuracy: 0.8992 - precision_6: 0.9274 - recall_6: 0.8724 - val_loss: 0.9572 - val_accuracy: 0.7578 - val_precision_6: 0.7926 - val_recall_6: 0.7353\n",
      "Epoch 16/20\n",
      "290/290 [==============================] - 11s 38ms/step - loss: 0.2620 - accuracy: 0.9156 - precision_6: 0.9376 - recall_6: 0.8951 - val_loss: 1.2099 - val_accuracy: 0.7204 - val_precision_6: 0.7482 - val_recall_6: 0.6992\n",
      "Epoch 17/20\n",
      "290/290 [==============================] - 11s 38ms/step - loss: 0.2580 - accuracy: 0.9169 - precision_6: 0.9373 - recall_6: 0.8973 - val_loss: 1.0864 - val_accuracy: 0.7516 - val_precision_6: 0.7808 - val_recall_6: 0.7284\n",
      "Epoch 18/20\n",
      "290/290 [==============================] - 11s 39ms/step - loss: 0.2132 - accuracy: 0.9318 - precision_6: 0.9475 - recall_6: 0.9174 - val_loss: 1.2052 - val_accuracy: 0.7321 - val_precision_6: 0.7580 - val_recall_6: 0.7147\n",
      "Epoch 19/20\n",
      "290/290 [==============================] - 11s 38ms/step - loss: 0.1885 - accuracy: 0.9408 - precision_6: 0.9531 - recall_6: 0.9295 - val_loss: 1.3816 - val_accuracy: 0.7195 - val_precision_6: 0.7385 - val_recall_6: 0.7057\n",
      "Epoch 20/20\n",
      "290/290 [==============================] - 11s 38ms/step - loss: 0.1970 - accuracy: 0.9381 - precision_6: 0.9505 - recall_6: 0.9257 - val_loss: 1.3793 - val_accuracy: 0.7509 - val_precision_6: 0.7656 - val_recall_6: 0.7360\n"
     ]
    }
   ],
   "source": [
    "max_epochs = 20\n",
    "batch_size = 512\n",
    "\n",
    "early_stop_cb = keras.callbacks.EarlyStopping(monitor='loss', mode='min', patience=5)\n",
    "checkpoint_cb = keras.callbacks.ModelCheckpoint(\"../model/cnn.keras\",monitor='val_loss', save_best_only=True, save_weights_only=False)\n",
    "history = model.fit(train_x_all, train_t_all, validation_data=(val_x, val_t), epochs=max_epochs, batch_size=batch_size, \n",
    "                    shuffle=True, callbacks=[early_stop_cb, checkpoint_cb], verbose=1)"
   ]
  },
  {
   "cell_type": "code",
   "execution_count": 43,
   "metadata": {},
   "outputs": [
    {
     "name": "stderr",
     "output_type": "stream",
     "text": [
      "2024-04-26 19:23:42.775595: W tensorflow/python/util/util.cc:368] Sets are not currently considered sequences, but this may change in the future, so consider avoiding using them.\n"
     ]
    },
    {
     "name": "stdout",
     "output_type": "stream",
     "text": [
      "INFO:tensorflow:Assets written to: ../model/model_cache/assets\n"
     ]
    }
   ],
   "source": [
    "np.save(\"../histories/my_hist\", history.history)\n",
    "model.save('../model/model_cache')"
   ]
  },
  {
   "cell_type": "code",
   "execution_count": 46,
   "metadata": {
    "tags": []
   },
   "outputs": [
    {
     "name": "stdout",
     "output_type": "stream",
     "text": [
      "169/169 [==============================] - 1s 5ms/step - loss: 1.3873 - accuracy: 0.7561 - precision_6: 0.7708 - recall_6: 0.7431\n",
      "Test Accuracy: 0.756129264831543\n"
     ]
    }
   ],
   "source": [
    "loss, acc, precision, recall = model.evaluate(test_x, test_t, verbose=1)\n",
    "print(f'Test Accuracy: {acc}')"
   ]
  },
  {
   "cell_type": "code",
   "execution_count": 51,
   "metadata": {
    "tags": []
   },
   "outputs": [],
   "source": [
    "np.save(\"../predicted/test_t_cnn_pred\", model.predict(test_x))"
   ]
  },
  {
   "cell_type": "code",
   "execution_count": 2,
   "metadata": {},
   "outputs": [
    {
     "ename": "NameError",
     "evalue": "name 'keras' is not defined",
     "output_type": "error",
     "traceback": [
      "\u001b[0;31m---------------------------------------------------------------------------\u001b[0m",
      "\u001b[0;31mNameError\u001b[0m                                 Traceback (most recent call last)",
      "Cell \u001b[0;32mIn[2], line 5\u001b[0m\n\u001b[1;32m      2\u001b[0m \u001b[38;5;28;01mfrom\u001b[39;00m \u001b[38;5;21;01msklearn\u001b[39;00m\u001b[38;5;21;01m.\u001b[39;00m\u001b[38;5;21;01mmetrics\u001b[39;00m \u001b[38;5;28;01mimport\u001b[39;00m accuracy_score, precision_score, recall_score, f1_score\n\u001b[1;32m      4\u001b[0m \u001b[38;5;66;03m# Load the trained model\u001b[39;00m\n\u001b[0;32m----> 5\u001b[0m model \u001b[38;5;241m=\u001b[39m \u001b[43mkeras\u001b[49m\u001b[38;5;241m.\u001b[39mmodels\u001b[38;5;241m.\u001b[39mload_model(\u001b[38;5;124m'\u001b[39m\u001b[38;5;124m../model/model_cache\u001b[39m\u001b[38;5;124m'\u001b[39m)\n\u001b[1;32m      7\u001b[0m \u001b[38;5;66;03m# Predict labels for the test set\u001b[39;00m\n\u001b[1;32m      8\u001b[0m predicted_labels \u001b[38;5;241m=\u001b[39m model\u001b[38;5;241m.\u001b[39mpredict(test_x)\n",
      "\u001b[0;31mNameError\u001b[0m: name 'keras' is not defined"
     ]
    }
   ],
   "source": [
    "# Evaluate the model on the test set\n",
    "from sklearn.metrics import accuracy_score, precision_score, recall_score, f1_score\n",
    "\n",
    "# Load the trained model\n",
    "model = keras.models.load_model('../model/model_cache')\n",
    "\n",
    "# Predict labels for the test set\n",
    "predicted_labels = model.predict(test_x)\n",
    "predicted_labels = np.argmax(predicted_labels, axis=1)\n",
    "\n",
    "true_labels = np.argmax(test_t, axis=1)\n",
    "\n",
    "# Compute metrics\n",
    "accuracy = accuracy_score(true_labels, predicted_labels)\n",
    "precision = precision_score(true_labels, predicted_labels, average='macro')\n",
    "recall = recall_score(true_labels, predicted_labels, average='macro')\n",
    "f1 = f1_score(true_labels, predicted_labels, average='macro')\n",
    "\n",
    "print(f'Accuracy: {accuracy}')\n",
    "print(f'Precision: {precision}')\n",
    "print(f'Recall: {recall}')\n",
    "print(f'F1-score: {f1}')"
   ]
  }
 ],
 "metadata": {
  "kernelspec": {
   "display_name": "Tensorflow-2.7.0",
   "language": "python",
   "name": "tensorflow-2.7.0"
  },
  "language_info": {
   "codemirror_mode": {
    "name": "ipython",
    "version": 3
   },
   "file_extension": ".py",
   "mimetype": "text/x-python",
   "name": "python",
   "nbconvert_exporter": "python",
   "pygments_lexer": "ipython3",
   "version": "3.9.12"
  }
 },
 "nbformat": 4,
 "nbformat_minor": 4
}
